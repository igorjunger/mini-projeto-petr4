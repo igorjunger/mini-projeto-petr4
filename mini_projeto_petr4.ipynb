{
 "cells": [
  {
   "cell_type": "markdown",
   "id": "f8c33131",
   "metadata": {},
   "source": [
    "# Mini Projeto: Análise de Retornos da PETR4\n",
    "Este notebook faz o download dos dados da ação PETR4, calcula o retorno diário, o retorno acumulado e algumas estatísticas básicas."
   ]
  },
  {
   "cell_type": "code",
   "execution_count": 1,
   "id": "2a0e4879",
   "metadata": {},
   "outputs": [],
   "source": [
    "# Importar bibliotecas\n",
    "import yfinance as yf\n",
    "import pandas as pd"
   ]
  },
  {
   "cell_type": "code",
   "execution_count": 2,
   "id": "72f8d525",
   "metadata": {},
   "outputs": [
    {
     "name": "stdout",
     "output_type": "stream",
     "text": [
      "YF.download() has changed argument auto_adjust default to True\n"
     ]
    },
    {
     "name": "stderr",
     "output_type": "stream",
     "text": [
      "[*********************100%***********************]  1 of 1 completed\n"
     ]
    }
   ],
   "source": [
    "# Download dos dados da PETR4\n",
    "df = yf.download('PETR4.SA', start='2020-01-01', end='2023-01-01')\n",
    "# Ajustar colunas para remover multiindex\n",
    "df.columns = df.columns.get_level_values(0)"
   ]
  },
  {
   "cell_type": "code",
   "execution_count": 3,
   "id": "c2a11866",
   "metadata": {},
   "outputs": [],
   "source": [
    "# Calcular retorno diário\n",
    "df['retorno_diario'] = df['Close'].pct_change()"
   ]
  },
  {
   "cell_type": "code",
   "execution_count": 4,
   "id": "289424b1",
   "metadata": {},
   "outputs": [],
   "source": [
    "# Calcular retorno acumulado\n",
    "df['retorno_acumulado'] = (df['retorno_diario'] + 1).cumprod()"
   ]
  },
  {
   "cell_type": "code",
   "execution_count": 5,
   "id": "27ec18be",
   "metadata": {},
   "outputs": [],
   "source": [
    "# Estatísticas básicas\n",
    "retorno_total = df['retorno_acumulado'].iloc[-1] - 1\n",
    "media = df['retorno_diario'].mean()\n",
    "desvio_padrao = df['retorno_diario'].std()\n",
    "dias_lucro = (df['retorno_diario'] > 0).sum()\n",
    "dias_preju = (df['retorno_diario'] < 0).sum()"
   ]
  },
  {
   "cell_type": "code",
   "execution_count": 6,
   "id": "8ea77579",
   "metadata": {},
   "outputs": [
    {
     "name": "stdout",
     "output_type": "stream",
     "text": [
      "Retorno Total no Período: 57.2727%\n",
      "Média dos Retornos Diários: 0.0012\n",
      "Desvio Padrão dos Retornos Diários: 0.0331\n",
      "Dias de lucro: 383\n",
      "Dias de prejuízo: 356\n"
     ]
    }
   ],
   "source": [
    "# Mostrar resultados\n",
    "print(f'Retorno Total no Período: {retorno_total:.4%}')\n",
    "print(f'Média dos Retornos Diários: {media:.4f}')\n",
    "print(f'Desvio Padrão dos Retornos Diários: {desvio_padrao:.4f}')\n",
    "print(f'Dias de lucro: {dias_lucro}')\n",
    "print(f'Dias de prejuízo: {dias_preju}')"
   ]
  },
  {
   "cell_type": "markdown",
   "id": "693134c2",
   "metadata": {},
   "source": [
    "## Conclusão\n",
    "Este mini projeto mostra como usar o Pandas e yfinance para obter dados financeiros, calcular retornos e extrair estatísticas importantes.\n",
    "Você pode expandir adicionando visualizações ou mais métricas."
   ]
  }
 ],
 "metadata": {
  "kernelspec": {
   "display_name": "Python 3 (ipykernel)",
   "language": "python",
   "name": "python3"
  },
  "language_info": {
   "codemirror_mode": {
    "name": "ipython",
    "version": 3
   },
   "file_extension": ".py",
   "mimetype": "text/x-python",
   "name": "python",
   "nbconvert_exporter": "python",
   "pygments_lexer": "ipython3",
   "version": "3.10.17"
  }
 },
 "nbformat": 4,
 "nbformat_minor": 5
}
